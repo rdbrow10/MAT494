{
  "nbformat": 4,
  "nbformat_minor": 0,
  "metadata": {
    "colab": {
      "provenance": [],
      "authorship_tag": "ABX9TyNNrahKmjD6BTVmySlHRW4y",
      "include_colab_link": true
    },
    "kernelspec": {
      "name": "python3",
      "display_name": "Python 3"
    },
    "language_info": {
      "name": "python"
    }
  },
  "cells": [
    {
      "cell_type": "markdown",
      "metadata": {
        "id": "view-in-github",
        "colab_type": "text"
      },
      "source": [
        "<a href=\"https://colab.research.google.com/github/rdbrow10/MAT494/blob/main/HW_3_4.ipynb\" target=\"_parent\"><img src=\"https://colab.research.google.com/assets/colab-badge.svg\" alt=\"Open In Colab\"/></a>"
      ]
    },
    {
      "cell_type": "markdown",
      "source": [
        "# 3.4 Logistic Regression"
      ],
      "metadata": {
        "id": "c_ubqWcwBEo8"
      }
    },
    {
      "cell_type": "markdown",
      "source": [
        "Here we provide some examples of logistic regression using sklearn: https://scikit-learn.org/stable/modules/generated/sklearn.linear_model.LogisticRegression.html\n",
        "\n",
        "Copyright:"
      ],
      "metadata": {
        "id": "J1yDa7iDBSFT"
      }
    },
    {
      "cell_type": "markdown",
      "source": [
        "## 1. Breast Cancer Dataset"
      ],
      "metadata": {
        "id": "ibFaSR8fBT8d"
      }
    },
    {
      "cell_type": "code",
      "source": [
        "from sklearn.linear_model import LogisticRegression as LR\n",
        "from sklearn.datasets import load_breast_cancer\n",
        "from sklearn.datasets import load_iris\n",
        "import numpy as np\n",
        "import matplotlib.pyplot as plt\n",
        "from sklearn.model_selection import train_test_split\n",
        "from sklearn.metrics import accuracy_score\n",
        " \n",
        "# breast cancer dataset    \n",
        "data = load_breast_cancer()\n",
        "X = data.data\n",
        "y = data.target\n",
        "X.data.shape"
      ],
      "metadata": {
        "colab": {
          "base_uri": "https://localhost:8080/"
        },
        "id": "VO-IKB4RBdFp",
        "outputId": "84b6f8bc-ffc0-442e-d098-d627642fab7a"
      },
      "execution_count": 1,
      "outputs": [
        {
          "output_type": "execute_result",
          "data": {
            "text/plain": [
              "(569, 30)"
            ]
          },
          "metadata": {},
          "execution_count": 1
        }
      ]
    },
    {
      "cell_type": "code",
      "source": [
        "lrl1 = LR(penalty=\"l1\",solver=\"liblinear\",C=0.5,max_iter=1000)\n",
        "lrl1 = lrl1.fit(X,y)\n",
        "lrl1.coef_\n",
        "\n",
        "(lrl1.coef_ != 0).sum(axis=1)#array([10])  \n",
        "\n",
        "lrl2 = LR(penalty=\"l2\",solver=\"liblinear\",C=0.5,max_iter=1000)\n",
        "lrl2 = lrl2.fit(X,y)\n",
        "lrl2.coef_"
      ],
      "metadata": {
        "colab": {
          "base_uri": "https://localhost:8080/"
        },
        "id": "4E5_wJ_XBgBw",
        "outputId": "32ce769a-0660-4b9e-ced6-196042aedbc2"
      },
      "execution_count": 2,
      "outputs": [
        {
          "output_type": "execute_result",
          "data": {
            "text/plain": [
              "array([[ 1.61331113e+00,  1.00124605e-01,  4.60084834e-02,\n",
              "        -4.19839432e-03, -9.26228937e-02, -3.00484301e-01,\n",
              "        -4.53250190e-01, -2.19778015e-01, -1.33074668e-01,\n",
              "        -1.92576286e-02,  1.89635811e-02,  8.74998561e-01,\n",
              "         1.32421950e-01, -9.53784314e-02, -9.62972408e-03,\n",
              "        -2.53596204e-02, -5.83890299e-02, -2.67755115e-02,\n",
              "        -2.73846616e-02, -8.05302929e-05,  1.28529688e+00,\n",
              "        -3.00088054e-01, -1.74310770e-01, -2.23545072e-02,\n",
              "        -1.70267493e-01, -8.77272211e-01, -1.15830085e+00,\n",
              "        -4.22526360e-01, -4.12406225e-01, -8.66393364e-02]])"
            ]
          },
          "metadata": {},
          "execution_count": 2
        }
      ]
    },
    {
      "cell_type": "markdown",
      "source": [
        "## 2. Iris dataset"
      ],
      "metadata": {
        "id": "MeofEUzQBkKi"
      }
    },
    {
      "cell_type": "code",
      "source": [
        "# load the data\n",
        "X, y = load_iris(return_X_y=True)\n",
        "\n",
        "# fit the data to the LR model\n",
        "clf = LR(random_state=0).fit(X, y)\n",
        "\n",
        "# give predictions\n",
        "clf.predict(X[:2, :])"
      ],
      "metadata": {
        "colab": {
          "base_uri": "https://localhost:8080/"
        },
        "id": "mISr6LYYBm8i",
        "outputId": "152a79fb-28b8-45fe-ac73-e2ecaa0db460"
      },
      "execution_count": 3,
      "outputs": [
        {
          "output_type": "stream",
          "name": "stderr",
          "text": [
            "/usr/local/lib/python3.7/dist-packages/sklearn/linear_model/_logistic.py:818: ConvergenceWarning: lbfgs failed to converge (status=1):\n",
            "STOP: TOTAL NO. of ITERATIONS REACHED LIMIT.\n",
            "\n",
            "Increase the number of iterations (max_iter) or scale the data as shown in:\n",
            "    https://scikit-learn.org/stable/modules/preprocessing.html\n",
            "Please also refer to the documentation for alternative solver options:\n",
            "    https://scikit-learn.org/stable/modules/linear_model.html#logistic-regression\n",
            "  extra_warning_msg=_LOGISTIC_SOLVER_CONVERGENCE_MSG,\n"
          ]
        },
        {
          "output_type": "execute_result",
          "data": {
            "text/plain": [
              "array([0, 0])"
            ]
          },
          "metadata": {},
          "execution_count": 3
        }
      ]
    },
    {
      "cell_type": "code",
      "source": [
        "clf.predict_proba(X[:2, :])"
      ],
      "metadata": {
        "id": "Y2iY2Cg0BqBN",
        "outputId": "b9033741-5ad2-447f-e648-e753709092fe",
        "colab": {
          "base_uri": "https://localhost:8080/"
        }
      },
      "execution_count": 4,
      "outputs": [
        {
          "output_type": "execute_result",
          "data": {
            "text/plain": [
              "array([[9.81801790e-01, 1.81981959e-02, 1.43556907e-08],\n",
              "       [9.71727348e-01, 2.82726221e-02, 3.00307256e-08]])"
            ]
          },
          "metadata": {},
          "execution_count": 4
        }
      ]
    },
    {
      "cell_type": "code",
      "source": [
        "clf.score(X, y)"
      ],
      "metadata": {
        "id": "6ezX8tiiBrfo",
        "outputId": "f6d13f4e-b016-43b4-d8fc-46ab82f12ea4",
        "colab": {
          "base_uri": "https://localhost:8080/"
        }
      },
      "execution_count": 5,
      "outputs": [
        {
          "output_type": "execute_result",
          "data": {
            "text/plain": [
              "0.9733333333333334"
            ]
          },
          "metadata": {},
          "execution_count": 5
        }
      ]
    }
  ]
}