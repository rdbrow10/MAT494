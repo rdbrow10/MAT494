{
  "nbformat": 4,
  "nbformat_minor": 0,
  "metadata": {
    "colab": {
      "provenance": [],
      "authorship_tag": "ABX9TyOxZtiJh3lMUkzQwNOCCc1q",
      "include_colab_link": true
    },
    "kernelspec": {
      "name": "python3",
      "display_name": "Python 3"
    },
    "language_info": {
      "name": "python"
    }
  },
  "cells": [
    {
      "cell_type": "markdown",
      "metadata": {
        "id": "view-in-github",
        "colab_type": "text"
      },
      "source": [
        "<a href=\"https://colab.research.google.com/github/rdbrow10/MAT494/blob/main/HW_2_2.ipynb\" target=\"_parent\"><img src=\"https://colab.research.google.com/assets/colab-badge.svg\" alt=\"Open In Colab\"/></a>"
      ]
    },
    {
      "cell_type": "markdown",
      "source": [
        "#Probability"
      ],
      "metadata": {
        "id": "IX9BzLhARCyh"
      }
    },
    {
      "cell_type": "markdown",
      "source": [
        "Showing examples of probability using scipy."
      ],
      "metadata": {
        "id": "HY9n-PnSRK5R"
      }
    },
    {
      "cell_type": "markdown",
      "source": [
        "Copyright: "
      ],
      "metadata": {
        "id": "XRJpGqrgRaTe"
      }
    },
    {
      "cell_type": "markdown",
      "source": [
        "#1. Poisson Distribution"
      ],
      "metadata": {
        "id": "YXkUSHe-Rhh2"
      }
    },
    {
      "cell_type": "markdown",
      "source": [
        "scipy.stats.poisson = <scipy.stats._discrete_distns.poisson_gen object>"
      ],
      "metadata": {
        "id": "yjM-jqZ4RpAh"
      }
    },
    {
      "cell_type": "markdown",
      "source": [
        "A Poisson discrete random variable."
      ],
      "metadata": {
        "id": "CfsPugMQSVcU"
      }
    },
    {
      "cell_type": "markdown",
      "source": [
        "https://docs.scipy.org/doc/scipy/reference/generated/scipy.stats.poisson.html"
      ],
      "metadata": {
        "id": "WmZzMVTMRrJq"
      }
    },
    {
      "cell_type": "code",
      "source": [
        "from scipy.stats import poisson\n",
        "import matplotlib.pyplot as plt\n",
        "import numpy as np\n",
        "\n",
        "# prepare the figure canvas\n",
        "fig, ax = plt.subplots(1, 1)\n",
        "\n",
        "# display all the plots inline\n",
        "%matplotlib inline "
      ],
      "metadata": {
        "id": "vB8gdz73RzJS"
      },
      "execution_count": 1,
      "outputs": []
    },
    {
      "cell_type": "code",
      "source": [
        "mu = 0.6\n",
        "mean, var, skew, kurt = poisson.stats(mu, moments='mvsk')"
      ],
      "metadata": {
        "id": "ICKUXb_KR3R2"
      },
      "execution_count": 2,
      "outputs": []
    },
    {
      "cell_type": "code",
      "source": [
        "# display the probability mass function (pmf):\n",
        "x = np.arange(poisson.ppf(0.01, mu), poisson.ppf(0.99, mu))\n",
        "ax.plot(x, poisson.pmf(x, mu), 'bo', ms=8, label='poisson pmf')\n",
        "ax.vlines(x, 0, poisson.pmf(x, mu), colors='b', lw=5, alpha=0.5)\n",
        "\n",
        "# display all the plots inline\n",
        "%matplotlib inline"
      ],
      "metadata": {
        "id": "itgRyrw-R5qS"
      },
      "execution_count": 3,
      "outputs": []
    },
    {
      "cell_type": "code",
      "source": [
        "# Alternatively, the distribution object can be called (as a function) \n",
        "# to fix the shape and location. \n",
        "# This returns a “frozen” RV object holding the given parameters fixed.\n",
        "\n",
        "# Freeze the distribution and display the frozen pmf:\n",
        "rv = poisson(mu)\n",
        "ax.vlines(x, 0, rv.pmf(x), colors='k', linestyles='-', lw=1, label='frozen pmf')\n",
        "ax.legend(loc='best', frameon=False)\n",
        "\n",
        "# display all the plots inline\n",
        "%matplotlib inline \n",
        "\n",
        "plt.show()"
      ],
      "metadata": {
        "id": "dd5FEzfnR8tM"
      },
      "execution_count": 4,
      "outputs": []
    },
    {
      "cell_type": "code",
      "source": [
        "# Check accuracy of cdf and ppf:\n",
        "prob = poisson.cdf(x, mu)\n",
        "np.allclose(x, poisson.ppf(prob, mu))"
      ],
      "metadata": {
        "colab": {
          "base_uri": "https://localhost:8080/"
        },
        "id": "hJpBOh_ISFDx",
        "outputId": "8065736b-2f79-431b-884e-0893b87a5bc9"
      },
      "execution_count": 5,
      "outputs": [
        {
          "output_type": "execute_result",
          "data": {
            "text/plain": [
              "True"
            ]
          },
          "metadata": {},
          "execution_count": 5
        }
      ]
    },
    {
      "cell_type": "code",
      "source": [
        "# Generate random numbers:\n",
        "r = poisson.rvs(mu, size=1000)"
      ],
      "metadata": {
        "id": "lRycsM7fSG5L"
      },
      "execution_count": 6,
      "outputs": []
    },
    {
      "cell_type": "markdown",
      "source": [
        "#1. Binomial Distribution"
      ],
      "metadata": {
        "id": "dRMBiDkSSK3p"
      }
    },
    {
      "cell_type": "markdown",
      "source": [
        "scipy.stats.binom = <scipy.stats._discrete_distns.binom_gen object>"
      ],
      "metadata": {
        "id": "QhMzPrjmSPaK"
      }
    },
    {
      "cell_type": "markdown",
      "source": [
        "A binomial discrete random variable."
      ],
      "metadata": {
        "id": "y-IdAj9dSRCI"
      }
    },
    {
      "cell_type": "markdown",
      "source": [
        "https://docs.scipy.org/doc/scipy/reference/generated/scipy.stats.binom.html"
      ],
      "metadata": {
        "id": "dCMV1H9GSZsp"
      }
    },
    {
      "cell_type": "code",
      "source": [
        "from scipy.stats import binom\n",
        "import matplotlib.pyplot as plt\n",
        "n, p = 5, 0.4\n",
        "mean, var, skew, kurt = binom.stats(n, p, moments='mvsk')\n",
        "\n",
        "# display the probability mass function (pmf):\n",
        "x = np.arange(binom.ppf(0.01, n, p), binom.ppf(0.99, n, p))\n",
        "ax.plot(x, binom.pmf(x, n, p), 'bo', ms=8, label='binom pmf')\n",
        "ax.vlines(x, 0, binom.pmf(x, n, p), colors='b', lw=5, alpha=0.5)"
      ],
      "metadata": {
        "colab": {
          "base_uri": "https://localhost:8080/"
        },
        "id": "SkdUoD6DSdUm",
        "outputId": "e281e557-bece-47aa-9513-bb4f5c1770e7"
      },
      "execution_count": 7,
      "outputs": [
        {
          "output_type": "execute_result",
          "data": {
            "text/plain": [
              "<matplotlib.collections.LineCollection at 0x7fcdd46fff90>"
            ]
          },
          "metadata": {},
          "execution_count": 7
        }
      ]
    },
    {
      "cell_type": "markdown",
      "source": [
        "The Code cell below pretty simple, this is where the parameters will go through and be displayed in this example."
      ],
      "metadata": {
        "id": "x9mdfdXrShY1"
      }
    },
    {
      "cell_type": "code",
      "source": [
        "# Freeze the distribution and display the frozen pmf:\n",
        "rv = binom(n, p)\n",
        "ax.vlines(x, 0, rv.pmf(x), colors='k', linestyles='-', lw=1, label='frozen pmf')\n",
        "ax.legend(loc='best', frameon=False)\n",
        "plt.show()"
      ],
      "metadata": {
        "id": "aATYoALLSgAa"
      },
      "execution_count": 8,
      "outputs": []
    },
    {
      "cell_type": "code",
      "source": [
        "# Check accuracy of cdf and ppf:\n",
        "prob = binom.cdf(x, n, p)\n",
        "np.allclose(x, binom.ppf(prob, n, p))"
      ],
      "metadata": {
        "colab": {
          "base_uri": "https://localhost:8080/"
        },
        "id": "cLM4SiYhSqAO",
        "outputId": "e45a346b-8893-4811-ac1c-893f03a92b2e"
      },
      "execution_count": 9,
      "outputs": [
        {
          "output_type": "execute_result",
          "data": {
            "text/plain": [
              "True"
            ]
          },
          "metadata": {},
          "execution_count": 9
        }
      ]
    },
    {
      "cell_type": "code",
      "source": [
        "# Generate random numbers:\n",
        "r = binom.rvs(n, p, size=1000)"
      ],
      "metadata": {
        "id": "kuzNXxkhSr9u"
      },
      "execution_count": 10,
      "outputs": []
    }
  ]
}