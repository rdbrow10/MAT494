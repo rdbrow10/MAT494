{
  "nbformat": 4,
  "nbformat_minor": 0,
  "metadata": {
    "colab": {
      "provenance": [],
      "authorship_tag": "ABX9TyPWVDV0YPoZwMc/Sb45zWXx",
      "include_colab_link": true
    },
    "kernelspec": {
      "name": "python3",
      "display_name": "Python 3"
    },
    "language_info": {
      "name": "python"
    }
  },
  "cells": [
    {
      "cell_type": "markdown",
      "metadata": {
        "id": "view-in-github",
        "colab_type": "text"
      },
      "source": [
        "<a href=\"https://colab.research.google.com/github/rdbrow10/MAT494/blob/main/Project_Plan.ipynb\" target=\"_parent\"><img src=\"https://colab.research.google.com/assets/colab-badge.svg\" alt=\"Open In Colab\"/></a>"
      ]
    },
    {
      "cell_type": "markdown",
      "source": [
        "# Introduction"
      ],
      "metadata": {
        "id": "F_nuj4htfWmE"
      }
    },
    {
      "cell_type": "markdown",
      "source": [
        "I will be looking into the covid effects on rural areas in the United States."
      ],
      "metadata": {
        "id": "Reh0WC-Jfcvl"
      }
    },
    {
      "cell_type": "markdown",
      "source": [
        "I will be centering on Wayne county in Utah and will relate them to the higher population counties in Utah. I will look at three specific counties in Utah (One low population county, one medium population county, and one high population county). "
      ],
      "metadata": {
        "id": "4L9DogU_fw4I"
      }
    },
    {
      "cell_type": "markdown",
      "source": [
        " My family has been going to Utah ever since I was 2. My dad has recently purchased land there to build his dream vacation home. So it would be beneficial to me and my family to explore the covid infection rate and death rate in this county to see the possible risks for future pandemics/epidemics. "
      ],
      "metadata": {
        "id": "YpZxO09sjp_D"
      }
    },
    {
      "cell_type": "markdown",
      "source": [
        "I would also like to attempt to calculate the probability an infected person from San Francisco County, California transmits covid to someone located in Wayne County, Utah. "
      ],
      "metadata": {
        "id": "hRqtYLJBkK_p"
      }
    },
    {
      "cell_type": "markdown",
      "source": [
        "# Data Sources"
      ],
      "metadata": {
        "id": "a9YS-Xrmh1gL"
      }
    },
    {
      "cell_type": "markdown",
      "source": [
        "https://github.com/nytimes/covid-19-data "
      ],
      "metadata": {
        "id": "W0fObjuuh7Re"
      }
    },
    {
      "cell_type": "markdown",
      "source": [
        "The above data source reports the number of all-time cases and deaths within each county in the United States. "
      ],
      "metadata": {
        "id": "zwkUELK8h-vu"
      }
    },
    {
      "cell_type": "markdown",
      "source": [
        "We can explore the different covid infection in different states, counties, and etcc. "
      ],
      "metadata": {
        "id": "zsrYcyB5jSTE"
      }
    },
    {
      "cell_type": "markdown",
      "source": [
        "# Data Science Models/Methods"
      ],
      "metadata": {
        "id": "h74Ir07Yidam"
      }
    },
    {
      "cell_type": "markdown",
      "source": [
        "Example: In Wayne County, Utah there has been a total of 506 cases throughout the few years covid has been present. "
      ],
      "metadata": {
        "id": "M7e8qT1cimSs"
      }
    },
    {
      "cell_type": "markdown",
      "source": [
        "We want to determine the infection rate per year over the last three years within each county selected. Cases/3 years = Cases per year."
      ],
      "metadata": {
        "id": "sQtD4n42i7st"
      }
    },
    {
      "cell_type": "markdown",
      "source": [
        "We can also calculate the probability of getting covid within a year in that specific county. \n",
        "(Cases/3 years)/County Population = Probabilty of getting covid per year. \n",
        "Or (Cases per year)/County Population = Probability of getting covid per year. "
      ],
      "metadata": {
        "id": "n6g6vTj3lB49"
      }
    },
    {
      "cell_type": "markdown",
      "source": [
        "# Expectations"
      ],
      "metadata": {
        "id": "IbACwvaVmIHF"
      }
    },
    {
      "cell_type": "markdown",
      "source": [
        "I expect the counties with low populations to have a lower infection rate when compared to high population counties. Although some external factors can affect this. "
      ],
      "metadata": {
        "id": "uDjC7a4pmL0B"
      }
    },
    {
      "cell_type": "markdown",
      "source": [
        "External factors include: People's beliefs, behaviors, and overall health. "
      ],
      "metadata": {
        "id": "XrbPSKLWpKap"
      }
    },
    {
      "cell_type": "markdown",
      "source": [
        "For example: Some people believed that covid was fake and/or not as bad as it was made out to be. Thus, we could possibly see higher infection rates if those people were to actually get tested when they were sick. So these numbers may not be as accurate as they should be. "
      ],
      "metadata": {
        "id": "tXog5eRWpSiz"
      }
    },
    {
      "cell_type": "markdown",
      "source": [
        "Another example: Some people worked in industries that could not be done at home or over zoom. People working in construction and other labor intense fields had higher exposure rates and higher infection rates. On the other hand, some people just didn't care and went about their life as normal. "
      ],
      "metadata": {
        "id": "h7EqpJvUpr7p"
      }
    },
    {
      "cell_type": "markdown",
      "source": [
        "It is very possible that some high population counties could have a lower infection rate than some low population counties, due to behaviors. We know that some states were much safer than others, based on regulations and quite frankly political standing. I wish this wasn't a factor but unfortunately it had some impact. "
      ],
      "metadata": {
        "id": "eMsnJMnDqQCr"
      }
    }
  ]
}